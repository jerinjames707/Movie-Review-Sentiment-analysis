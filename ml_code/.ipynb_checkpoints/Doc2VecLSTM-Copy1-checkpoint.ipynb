{
 "cells": [
  {
   "cell_type": "code",
   "execution_count": 1,
   "metadata": {
    "id": "7a678a5f"
   },
   "outputs": [
    {
     "name": "stderr",
     "output_type": "stream",
     "text": [
      "C:\\Users\\getto\\AppData\\Roaming\\Python\\Python36\\site-packages\\tensorflow\\python\\framework\\dtypes.py:526: FutureWarning: Passing (type, 1) or '1type' as a synonym of type is deprecated; in a future version of numpy, it will be understood as (type, (1,)) / '(1,)type'.\n",
      "  _np_qint8 = np.dtype([(\"qint8\", np.int8, 1)])\n",
      "C:\\Users\\getto\\AppData\\Roaming\\Python\\Python36\\site-packages\\tensorflow\\python\\framework\\dtypes.py:527: FutureWarning: Passing (type, 1) or '1type' as a synonym of type is deprecated; in a future version of numpy, it will be understood as (type, (1,)) / '(1,)type'.\n",
      "  _np_quint8 = np.dtype([(\"quint8\", np.uint8, 1)])\n",
      "C:\\Users\\getto\\AppData\\Roaming\\Python\\Python36\\site-packages\\tensorflow\\python\\framework\\dtypes.py:528: FutureWarning: Passing (type, 1) or '1type' as a synonym of type is deprecated; in a future version of numpy, it will be understood as (type, (1,)) / '(1,)type'.\n",
      "  _np_qint16 = np.dtype([(\"qint16\", np.int16, 1)])\n",
      "C:\\Users\\getto\\AppData\\Roaming\\Python\\Python36\\site-packages\\tensorflow\\python\\framework\\dtypes.py:529: FutureWarning: Passing (type, 1) or '1type' as a synonym of type is deprecated; in a future version of numpy, it will be understood as (type, (1,)) / '(1,)type'.\n",
      "  _np_quint16 = np.dtype([(\"quint16\", np.uint16, 1)])\n",
      "C:\\Users\\getto\\AppData\\Roaming\\Python\\Python36\\site-packages\\tensorflow\\python\\framework\\dtypes.py:530: FutureWarning: Passing (type, 1) or '1type' as a synonym of type is deprecated; in a future version of numpy, it will be understood as (type, (1,)) / '(1,)type'.\n",
      "  _np_qint32 = np.dtype([(\"qint32\", np.int32, 1)])\n",
      "C:\\Users\\getto\\AppData\\Roaming\\Python\\Python36\\site-packages\\tensorflow\\python\\framework\\dtypes.py:535: FutureWarning: Passing (type, 1) or '1type' as a synonym of type is deprecated; in a future version of numpy, it will be understood as (type, (1,)) / '(1,)type'.\n",
      "  np_resource = np.dtype([(\"resource\", np.ubyte, 1)])\n",
      "C:\\Users\\getto\\AppData\\Roaming\\Python\\Python36\\site-packages\\gensim\\utils.py:1209: UserWarning: detected Windows; aliasing chunkize to chunkize_serial\n",
      "  warnings.warn(\"detected Windows; aliasing chunkize to chunkize_serial\")\n"
     ]
    }
   ],
   "source": [
    "import numpy as np\n",
    "import pandas as pd\n",
    "import os\n",
    "import time\n",
    "from tqdm import tqdm\n",
    "import matplotlib.pyplot as plt\n",
    "from matplotlib import style\n",
    "import seaborn as sns\n",
    "import tensorflow as tf\n",
    "import string\n",
    "import re\n",
    "from sklearn import metrics\n",
    "from tensorflow.keras.preprocessing.text import Tokenizer\n",
    "from tensorflow.keras.preprocessing.sequence import pad_sequences\n",
    "from tensorflow.keras.models import Model\n",
    "from tensorflow.keras.layers import Input, Dense, Dropout, BatchNormalization, Activation, LSTM, GRU, BatchNormalization\n",
    "from tensorflow.keras.layers import Conv1D, GlobalAveragePooling1D, MaxPool1D, Flatten, Bidirectional\n",
    "from sklearn.model_selection import train_test_split\n",
    "from nltk.tokenize import word_tokenize\n",
    "from gensim.models import Doc2Vec\n",
    "from gensim.models.doc2vec import TaggedDocument\n",
    "from nltk.corpus import stopwords   # to get collection of stopwords\n",
    "from sklearn.metrics import confusion_matrix, roc_curve,  roc_auc_score, classification_report"
   ]
  },
  {
   "cell_type": "code",
   "execution_count": null,
   "metadata": {
    "colab": {
     "base_uri": "https://localhost:8080/"
    },
    "id": "b3ff9f3e",
    "outputId": "d9ceb5da-ec42-49c7-fe9d-58752d0258be"
   },
   "outputs": [
    {
     "name": "stdout",
     "output_type": "stream",
     "text": [
      "Mounted at /content/drive\n"
     ]
    }
   ],
   "source": [
    "from google.colab import drive\n",
    "drive.mount('/content/drive', force_remount=True)"
   ]
  },
  {
   "cell_type": "code",
   "execution_count": 2,
   "metadata": {
    "colab": {
     "base_uri": "https://localhost:8080/"
    },
    "id": "d2f6d127",
    "outputId": "44bc0e43-631e-4dae-c609-ca33c5536e28"
   },
   "outputs": [
    {
     "name": "stdout",
     "output_type": "stream",
     "text": [
      " datasets shape: (50000, 2)\n"
     ]
    }
   ],
   "source": [
    "path=\"/content/drive/MyDrive/Colab Notebooks/M4MainProject/Doc2VecLStm_30/Dataset/IMDB Dataset.csv\"\n",
    "train = pd.read_csv(\"dataset.csv\")\n",
    "print(\" datasets shape:\", train.shape)\n"
   ]
  },
  {
   "cell_type": "code",
   "execution_count": 3,
   "metadata": {
    "colab": {
     "base_uri": "https://localhost:8080/",
     "height": 223
    },
    "id": "6dab41c3",
    "outputId": "009f1526-a71f-4070-c291-44637926a2ac"
   },
   "outputs": [
    {
     "name": "stdout",
     "output_type": "stream",
     "text": [
      "Data samples:\n"
     ]
    },
    {
     "data": {
      "text/html": [
       "<div>\n",
       "<style scoped>\n",
       "    .dataframe tbody tr th:only-of-type {\n",
       "        vertical-align: middle;\n",
       "    }\n",
       "\n",
       "    .dataframe tbody tr th {\n",
       "        vertical-align: top;\n",
       "    }\n",
       "\n",
       "    .dataframe thead th {\n",
       "        text-align: right;\n",
       "    }\n",
       "</style>\n",
       "<table border=\"1\" class=\"dataframe\">\n",
       "  <thead>\n",
       "    <tr style=\"text-align: right;\">\n",
       "      <th></th>\n",
       "      <th>review</th>\n",
       "      <th>sentiment</th>\n",
       "    </tr>\n",
       "  </thead>\n",
       "  <tbody>\n",
       "    <tr>\n",
       "      <th>0</th>\n",
       "      <td>One of the other reviewers has mentioned that ...</td>\n",
       "      <td>positive</td>\n",
       "    </tr>\n",
       "    <tr>\n",
       "      <th>1</th>\n",
       "      <td>A wonderful little production. &lt;br /&gt;&lt;br /&gt;The...</td>\n",
       "      <td>positive</td>\n",
       "    </tr>\n",
       "    <tr>\n",
       "      <th>2</th>\n",
       "      <td>I thought this was a wonderful way to spend ti...</td>\n",
       "      <td>positive</td>\n",
       "    </tr>\n",
       "    <tr>\n",
       "      <th>3</th>\n",
       "      <td>Basically there's a family where a little boy ...</td>\n",
       "      <td>negative</td>\n",
       "    </tr>\n",
       "    <tr>\n",
       "      <th>4</th>\n",
       "      <td>Petter Mattei's \"Love in the Time of Money\" is...</td>\n",
       "      <td>positive</td>\n",
       "    </tr>\n",
       "  </tbody>\n",
       "</table>\n",
       "</div>"
      ],
      "text/plain": [
       "                                              review sentiment\n",
       "0  One of the other reviewers has mentioned that ...  positive\n",
       "1  A wonderful little production. <br /><br />The...  positive\n",
       "2  I thought this was a wonderful way to spend ti...  positive\n",
       "3  Basically there's a family where a little boy ...  negative\n",
       "4  Petter Mattei's \"Love in the Time of Money\" is...  positive"
      ]
     },
     "execution_count": 3,
     "metadata": {},
     "output_type": "execute_result"
    }
   ],
   "source": [
    "print('Data samples:')\n",
    "train.head()"
   ]
  },
  {
   "cell_type": "code",
   "execution_count": 4,
   "metadata": {
    "colab": {
     "base_uri": "https://localhost:8080/",
     "height": 334
    },
    "id": "f7db26a8",
    "outputId": "6efc55f5-2685-4fd0-d30d-c8f3da8d1e70"
   },
   "outputs": [
    {
     "name": "stderr",
     "output_type": "stream",
     "text": [
      "C:\\ProgramData\\Anaconda3\\lib\\site-packages\\seaborn\\_decorators.py:43: FutureWarning: Pass the following variable as a keyword arg: x. From version 0.12, the only valid positional argument will be `data`, and passing other arguments without an explicit keyword will result in an error or misinterpretation.\n",
      "  FutureWarning\n"
     ]
    },
    {
     "data": {
      "image/png": "[encoded data removed]",
      "text/plain": [
       "<Figure size 432x288 with 1 Axes>"
      ]
     },
     "metadata": {},
     "output_type": "display_data"
    }
   ],
   "source": [
    "sns.countplot(train.sentiment)\n",
    "plt.show()\n"
   ]
  },
  {
   "cell_type": "code",
   "execution_count": null,
   "metadata": {
    "colab": {
     "base_uri": "https://localhost:8080/"
    },
    "id": "DyCjZ0uBRImh",
    "outputId": "1149dd4e-054d-47d2-a126-e8a22f17c05e"
   },
   "outputs": [
    {
     "name": "stdout",
     "output_type": "stream",
     "text": [
      "Looking in indexes: https://pypi.org/simple, https://us-python.pkg.dev/colab-wheels/public/simple/\n",
      "Collecting contractions\n",
      "  Downloading contractions-0.1.73-py2.py3-none-any.whl (8.7 kB)\n",
      "Collecting textsearch>=0.0.21\n",
      "  Downloading textsearch-0.0.24-py2.py3-none-any.whl (7.6 kB)\n",
      "Collecting pyahocorasick\n",
      "  Downloading pyahocorasick-1.4.4-cp38-cp38-manylinux_2_17_x86_64.manylinux2014_x86_64.whl (110 kB)\n",
      "\u001b[2K     \u001b[90m━━━━━━━━━━━━━━━━━━━━━━━━━━━━━━━━━━━━━━\u001b[0m \u001b[32m110.1/110.1 KB\u001b[0m \u001b[31m13.2 MB/s\u001b[0m eta \u001b[36m0:00:00\u001b[0m\n",
      "\u001b[?25hCollecting anyascii\n",
      "  Downloading anyascii-0.3.1-py3-none-any.whl (287 kB)\n",
      "\u001b[2K     \u001b[90m━━━━━━━━━━━━━━━━━━━━━━━━━━━━━━━━━━━━━━\u001b[0m \u001b[32m287.5/287.5 KB\u001b[0m \u001b[31m30.9 MB/s\u001b[0m eta \u001b[36m0:00:00\u001b[0m\n",
      "\u001b[?25hInstalling collected packages: pyahocorasick, anyascii, textsearch, contractions\n",
      "Successfully installed anyascii-0.3.1 contractions-0.1.73 pyahocorasick-1.4.4 textsearch-0.0.24\n",
      "Looking in indexes: https://pypi.org/simple, https://us-python.pkg.dev/colab-wheels/public/simple/\n",
      "Collecting gingerit\n",
      "  Downloading gingerit-0.9.0-py3-none-any.whl (3.4 kB)\n",
      "Collecting cloudscraper<2.0.0,>=1.2.66\n",
      "  Downloading cloudscraper-1.2.68-py2.py3-none-any.whl (98 kB)\n",
      "\u001b[2K     \u001b[90m━━━━━━━━━━━━━━━━━━━━━━━━━━━━━━━━━━━━━━━━\u001b[0m \u001b[32m98.6/98.6 KB\u001b[0m \u001b[31m12.1 MB/s\u001b[0m eta \u001b[36m0:00:00\u001b[0m\n",
      "\u001b[?25hCollecting requests-toolbelt>=0.9.1\n",
      "  Downloading requests_toolbelt-0.10.1-py2.py3-none-any.whl (54 kB)\n",
      "\u001b[2K     \u001b[90m━━━━━━━━━━━━━━━━━━━━━━━━━━━━━━━━━━━━━━━━\u001b[0m \u001b[32m54.5/54.5 KB\u001b[0m \u001b[31m8.5 MB/s\u001b[0m eta \u001b[36m0:00:00\u001b[0m\n",
      "\u001b[?25hRequirement already satisfied: pyparsing>=2.4.7 in /usr/local/lib/python3.8/dist-packages (from cloudscraper<2.0.0,>=1.2.66->gingerit) (3.0.9)\n",
      "Requirement already satisfied: requests>=2.9.2 in /usr/local/lib/python3.8/dist-packages (from cloudscraper<2.0.0,>=1.2.66->gingerit) (2.25.1)\n",
      "Requirement already satisfied: urllib3<1.27,>=1.21.1 in /usr/local/lib/python3.8/dist-packages (from requests>=2.9.2->cloudscraper<2.0.0,>=1.2.66->gingerit) (1.24.3)\n",
      "Requirement already satisfied: idna<3,>=2.5 in /usr/local/lib/python3.8/dist-packages (from requests>=2.9.2->cloudscraper<2.0.0,>=1.2.66->gingerit) (2.10)\n",
      "Requirement already satisfied: chardet<5,>=3.0.2 in /usr/local/lib/python3.8/dist-packages (from requests>=2.9.2->cloudscraper<2.0.0,>=1.2.66->gingerit) (4.0.0)\n",
      "Requirement already satisfied: certifi>=2017.4.17 in /usr/local/lib/python3.8/dist-packages (from requests>=2.9.2->cloudscraper<2.0.0,>=1.2.66->gingerit) (2022.12.7)\n",
      "Installing collected packages: requests-toolbelt, cloudscraper, gingerit\n",
      "Successfully installed cloudscraper-1.2.68 gingerit-0.9.0 requests-toolbelt-0.10.1\n"
     ]
    }
   ],
   "source": [
    "!pip install contractions\n",
    "!pip install gingerit"
   ]
  },
  {
   "cell_type": "code",
   "execution_count": 5,
   "metadata": {
    "colab": {
     "base_uri": "https://localhost:8080/"
    },
    "id": "tq5mzWaYSA4M",
    "outputId": "ce236bd3-a391-4844-ec52-d8b2ddeb5dcf"
   },
   "outputs": [],
   "source": [
    "import nltk\n",
    "\"\"\"nltk.download('stopwords')\n",
    "nltk.download('punkt')\n",
    "nltk.download('words')\n",
    "\"\"\"\n",
    "from nltk.corpus import words\n",
    "correct_words = words.words()"
   ]
  },
  {
   "cell_type": "code",
   "execution_count": 9,
   "metadata": {
    "colab": {
     "base_uri": "https://localhost:8080/"
    },
    "id": "QRPLE3YBT680",
    "outputId": "de935051-065c-454e-db1a-3d3b52c7974c"
   },
   "outputs": [
    {
     "name": "stdout",
     "output_type": "stream",
     "text": [
      "Enter the input text:  onne is enough\n"
     ]
    },
    {
     "ename": "JSONDecodeError",
     "evalue": "[Errno Expecting value] <!DOCTYPE html>\n<html lang=\"en-US\">\n   <head>\n      <title>Access denied</title>\n      <meta http-equiv=\"X-UA-Compatible\" content=\"IE=Edge\" />\n      <meta name=\"robots\" content=\"noindex, nofollow\" />\n      <meta name=\"viewport\" content=\"width=device-width,initial-scale=1\" />\n      <link rel=\"stylesheet\" href=\"/cdn-cgi/styles/errors.css\" media=\"screen\" />\n      <script>\n(function(){if(document.addEventListener&&window.XMLHttpRequest&&JSON&&JSON.stringify){var e=function(a){var c=document.getElementById(\"error-feedback-survey\"),d=document.getElementById(\"error-feedback-success\"),b=new XMLHttpRequest;a={event:\"feedback clicked\",properties:{errorCode:1020,helpful:a,version:5}};b.open(\"POST\",\"https://sparrow.cloudflare.com/api/v1/event\");b.setRequestHeader(\"Content-Type\",\"application/json\");b.setRequestHeader(\"Sparrow-Source-Key\",\"c771f0e4b54944bebf4261d44bd79a1e\");\nb.send(JSON.stringify(a));c.classList.add(\"feedback-hidden\");d.classList.remove(\"feedback-hidden\")};document.addEventListener(\"DOMContentLoaded\",function(){var a=document.getElementById(\"error-feedback\"),c=document.getElementById(\"feedback-button-yes\"),d=document.getElementById(\"feedback-button-no\");\"classList\"in a&&(a.classList.remove(\"feedback-hidden\"),c.addEventListener(\"click\",function(){e(!0)}),d.addEventListener(\"click\",function(){e(!1)}))})}})();\n</script>\n\n      <script>\n      (function(){function d(c){var b=document.getElementById(\"copy-label\"),a=document.getElementById(\"cf-details-wrapper-expandable\");c.target.checked?a.classList.add(\"expanded\"):(a.classList.remove(\"expanded\"),b.innerText=\"Click to copy\")}if(document.addEventListener){var e=function(){var c=document.getElementById(\"copy-label\");var b=document.getElementById(\"error-details\").textContent;if(navigator.clipboard)navigator.clipboard.writeText(b);else{var a=document.createElement(\"textarea\");a.value=b;a.style.top=\"0\";a.style.left=\"0\";a.style.position=\"fixed\";document.body.appendChild(a);a.focus();a.select();document.execCommand(\"copy\");document.body.removeChild(a)}c.innerText=\"Copied text to clipboard\"};document.addEventListener(\"DOMContentLoaded\",function(){var c=document.getElementById(\"error-details-checkbox\"),b=document.getElementById(\"click-to-copy-btn\");document.getElementById(\"copy-label\").classList.remove(\"hidden\");c.addEventListener(\"change\",d);b.addEventListener(\"click\",e)})}})();\n      </script>\n      <script defer src=\"https://performance.radar.cloudflare.com/beacon.js\"></script>\n   </head>\n   <body>\n   <div class=\"cf-main-wrapper\" role=\"main\">\n      <div class=\"cf-header cf-section\">\n         <div class=\"cf-error-title\">\n            <h1>Access denied</h1>\n            <span class=\"cf-code-label\">Error code <span>1020</span></span>\n         </div>\n         <div class=\"cf-error-description\">\n            <p>You do not have access to services.gingersoftware.com.</p><p>The site owner may have set restrictions that prevent you from accessing the site.</p>\n         </div>\n      </div>\n   </div>\n\n   <div class=\"cf-details-wrapper\">\n      <div class=\"cf-section\" role=\"region\">\n         <div class=\"cf-expandable\" id=\"cf-details-wrapper-expandable\">\n            <label for=\"error-details-checkbox\" title=\"Error details\" class=\"cf-expandable-btn\">\n               <p class=\"cf-dropdown-title\">Error details</p>\n               <img src=\"data:image/png;base64,iVBORw0KGgoAAAANSUhEUgAAACAAAAAgBAMAAACBVGfHAAAAElBMVEUAAAAwMDAxMTEyMjIwMDAxMTF+89HTAAAABXRSTlMAf2CAMKS61bwAAABTSURBVCjPzcq7DcAgFENR5zMATfo06TNCViAS+6+CeFi6gglw4eLqaPVtaQpXnkApaQT/k0dw70EAUhCA1AnABGACMAGYAEwAkCOAydv+I5xaZhXWbQrD80TkkQAAAABJRU5ErkJggg==\"\n               class=\"cf-caret-icon\" id=\"caret-icon\" alt=\"Caret icon\" />\n            </label>\n\n            <input id=\"error-details-checkbox\" class=\"hidden\" type=\"checkbox\">\n\n            <div class=\"cf-expandable-error-info hidden\">\n               <p class=\"cf-error-copy-description\">Provide the site owner this information.</p>\n               <button class=\"cf-click-to-copy-btn\" id=\"click-to-copy-btn\" title=\"Click to copy\" type=\"button\">\n<div class=\"cf-error-wrapper\" id=\"error-details\"><p class=\"cf-error-details-endpoint\">I got an error when visiting services.gingersoftware.com/Ginger/correct/jsonSecured/GingerTheTextFull?lang=US&amp;apiKey=6ae0c3a0-afdc-4532-a810-82ded0054236&amp;clientVersion=2.0&amp;text=onne+is+enough.</p>\n\n<p>Error code: 1020</p>\n<p>Ray ID: 7a4459908a0e52d4</p>\n<p>Country: IN</p>\n<p>Data center: ccu02</p>\n<p>IP: 106.197.19.142</p>\n<p>Timestamp: 2023-03-07 16:52:36 UTC</p>\n</div>\n                  <p class=\"cf-copy-label hidden\" id=\"copy-label\">Click to copy</p>\n               </button>\n            </div>\n         </div>\n      </div>\n\n      <div class=\"clearfix cf-footer cf-section\" role=\"contentinfo\">\n      <div class=\"cf-column\">\n           <div class=\"feedback-hidden py-8 text-center\" id=\"error-feedback\">\n    <div id=\"error-feedback-survey\" class=\"footer-line-wrapper\">\n        Was this page helpful?\n        <button class=\"border border-solid bg-white cf-button cursor-pointer ml-4 px-4 py-2 rounded\" id=\"feedback-button-yes\" type=\"button\">Yes</button>\n        <button class=\"border border-solid bg-white cf-button cursor-pointer ml-4 px-4 py-2 rounded\" id=\"feedback-button-no\" type=\"button\">No</button>\n    </div>\n    <div class=\"feedback-success feedback-hidden\" id=\"error-feedback-success\">\n        Thank you for your feedback!\n    </div>\n</div>\n\n      </div>\n         <div class=\"cf-column cf-footer-line-wrapper text-center\">\n            <p>\n               Performance &amp; security by <a rel=\"noopener noreferrer\" href=\"https://www.cloudflare.com?utm_source=1020_error\" target=\"_blank\">Cloudflare <img class=\"external-link\" title=\"Opens in new tab\" src=\"/cdn-cgi/images/external.png\" alt=\"External link\"></a>\n            </p>\n         </div>\n      </div>\n   </div>\n</body>\n</html>\n: 0",
     "output_type": "error",
     "traceback": [
      "\u001b[1;31m---------------------------------------------------------------------------\u001b[0m",
      "\u001b[1;31mJSONDecodeError\u001b[0m                           Traceback (most recent call last)",
      "\u001b[1;32mC:\\ProgramData\\Anaconda3\\lib\\site-packages\\requests\\models.py\u001b[0m in \u001b[0;36mjson\u001b[1;34m(self, **kwargs)\u001b[0m\n\u001b[0;32m    909\u001b[0m         \u001b[1;32mtry\u001b[0m\u001b[1;33m:\u001b[0m\u001b[1;33m\u001b[0m\u001b[0m\n\u001b[1;32m--> 910\u001b[1;33m             \u001b[1;32mreturn\u001b[0m \u001b[0mcomplexjson\u001b[0m\u001b[1;33m.\u001b[0m\u001b[0mloads\u001b[0m\u001b[1;33m(\u001b[0m\u001b[0mself\u001b[0m\u001b[1;33m.\u001b[0m\u001b[0mtext\u001b[0m\u001b[1;33m,\u001b[0m \u001b[1;33m**\u001b[0m\u001b[0mkwargs\u001b[0m\u001b[1;33m)\u001b[0m\u001b[1;33m\u001b[0m\u001b[0m\n\u001b[0m\u001b[0;32m    911\u001b[0m         \u001b[1;32mexcept\u001b[0m \u001b[0mJSONDecodeError\u001b[0m \u001b[1;32mas\u001b[0m \u001b[0me\u001b[0m\u001b[1;33m:\u001b[0m\u001b[1;33m\u001b[0m\u001b[0m\n",
      "\u001b[1;32mC:\\ProgramData\\Anaconda3\\lib\\json\\__init__.py\u001b[0m in \u001b[0;36mloads\u001b[1;34m(s, encoding, cls, object_hook, parse_float, parse_int, parse_constant, object_pairs_hook, **kw)\u001b[0m\n\u001b[0;32m    353\u001b[0m             parse_constant is None and object_pairs_hook is None and not kw):\n\u001b[1;32m--> 354\u001b[1;33m         \u001b[1;32mreturn\u001b[0m \u001b[0m_default_decoder\u001b[0m\u001b[1;33m.\u001b[0m\u001b[0mdecode\u001b[0m\u001b[1;33m(\u001b[0m\u001b[0ms\u001b[0m\u001b[1;33m)\u001b[0m\u001b[1;33m\u001b[0m\u001b[0m\n\u001b[0m\u001b[0;32m    355\u001b[0m     \u001b[1;32mif\u001b[0m \u001b[0mcls\u001b[0m \u001b[1;32mis\u001b[0m \u001b[1;32mNone\u001b[0m\u001b[1;33m:\u001b[0m\u001b[1;33m\u001b[0m\u001b[0m\n",
      "\u001b[1;32mC:\\ProgramData\\Anaconda3\\lib\\json\\decoder.py\u001b[0m in \u001b[0;36mdecode\u001b[1;34m(self, s, _w)\u001b[0m\n\u001b[0;32m    338\u001b[0m         \"\"\"\n\u001b[1;32m--> 339\u001b[1;33m         \u001b[0mobj\u001b[0m\u001b[1;33m,\u001b[0m \u001b[0mend\u001b[0m \u001b[1;33m=\u001b[0m \u001b[0mself\u001b[0m\u001b[1;33m.\u001b[0m\u001b[0mraw_decode\u001b[0m\u001b[1;33m(\u001b[0m\u001b[0ms\u001b[0m\u001b[1;33m,\u001b[0m \u001b[0midx\u001b[0m\u001b[1;33m=\u001b[0m\u001b[0m_w\u001b[0m\u001b[1;33m(\u001b[0m\u001b[0ms\u001b[0m\u001b[1;33m,\u001b[0m \u001b[1;36m0\u001b[0m\u001b[1;33m)\u001b[0m\u001b[1;33m.\u001b[0m\u001b[0mend\u001b[0m\u001b[1;33m(\u001b[0m\u001b[1;33m)\u001b[0m\u001b[1;33m)\u001b[0m\u001b[1;33m\u001b[0m\u001b[0m\n\u001b[0m\u001b[0;32m    340\u001b[0m         \u001b[0mend\u001b[0m \u001b[1;33m=\u001b[0m \u001b[0m_w\u001b[0m\u001b[1;33m(\u001b[0m\u001b[0ms\u001b[0m\u001b[1;33m,\u001b[0m \u001b[0mend\u001b[0m\u001b[1;33m)\u001b[0m\u001b[1;33m.\u001b[0m\u001b[0mend\u001b[0m\u001b[1;33m(\u001b[0m\u001b[1;33m)\u001b[0m\u001b[1;33m\u001b[0m\u001b[0m\n",
      "\u001b[1;32mC:\\ProgramData\\Anaconda3\\lib\\json\\decoder.py\u001b[0m in \u001b[0;36mraw_decode\u001b[1;34m(self, s, idx)\u001b[0m\n\u001b[0;32m    356\u001b[0m         \u001b[1;32mexcept\u001b[0m \u001b[0mStopIteration\u001b[0m \u001b[1;32mas\u001b[0m \u001b[0merr\u001b[0m\u001b[1;33m:\u001b[0m\u001b[1;33m\u001b[0m\u001b[0m\n\u001b[1;32m--> 357\u001b[1;33m             \u001b[1;32mraise\u001b[0m \u001b[0mJSONDecodeError\u001b[0m\u001b[1;33m(\u001b[0m\u001b[1;34m\"Expecting value\"\u001b[0m\u001b[1;33m,\u001b[0m \u001b[0ms\u001b[0m\u001b[1;33m,\u001b[0m \u001b[0merr\u001b[0m\u001b[1;33m.\u001b[0m\u001b[0mvalue\u001b[0m\u001b[1;33m)\u001b[0m \u001b[1;32mfrom\u001b[0m \u001b[1;32mNone\u001b[0m\u001b[1;33m\u001b[0m\u001b[0m\n\u001b[0m\u001b[0;32m    358\u001b[0m         \u001b[1;32mreturn\u001b[0m \u001b[0mobj\u001b[0m\u001b[1;33m,\u001b[0m \u001b[0mend\u001b[0m\u001b[1;33m\u001b[0m\u001b[0m\n",
      "\u001b[1;31mJSONDecodeError\u001b[0m: Expecting value: line 1 column 1 (char 0)",
      "\nDuring handling of the above exception, another exception occurred:\n",
      "\u001b[1;31mJSONDecodeError\u001b[0m                           Traceback (most recent call last)",
      "\u001b[1;32m<ipython-input-9-bce07521c8a7>\u001b[0m in \u001b[0;36m<module>\u001b[1;34m()\u001b[0m\n\u001b[0;32m      5\u001b[0m \u001b[0mcorrects\u001b[0m\u001b[1;33m=\u001b[0m\u001b[1;33m[\u001b[0m\u001b[1;33m]\u001b[0m\u001b[1;33m\u001b[0m\u001b[0m\n\u001b[0;32m      6\u001b[0m \u001b[1;32mfor\u001b[0m \u001b[0mw\u001b[0m \u001b[1;32min\u001b[0m \u001b[0mchunks\u001b[0m\u001b[1;33m:\u001b[0m\u001b[1;33m\u001b[0m\u001b[0m\n\u001b[1;32m----> 7\u001b[1;33m   \u001b[0mcorrect\u001b[0m \u001b[1;33m=\u001b[0m \u001b[0mGingerIt\u001b[0m\u001b[1;33m(\u001b[0m\u001b[1;33m)\u001b[0m\u001b[1;33m.\u001b[0m\u001b[0mparse\u001b[0m\u001b[1;33m(\u001b[0m\u001b[0mw\u001b[0m\u001b[1;33m)\u001b[0m\u001b[1;33m\u001b[0m\u001b[0m\n\u001b[0m\u001b[0;32m      8\u001b[0m   \u001b[0mcorrects\u001b[0m\u001b[1;33m.\u001b[0m\u001b[0mappend\u001b[0m\u001b[1;33m(\u001b[0m\u001b[0mcorrect\u001b[0m\u001b[1;33m[\u001b[0m\u001b[1;34m'result'\u001b[0m\u001b[1;33m]\u001b[0m\u001b[1;33m)\u001b[0m\u001b[1;33m\u001b[0m\u001b[0m\n\u001b[0;32m      9\u001b[0m \u001b[0mslang_correct\u001b[0m\u001b[1;33m=\u001b[0m \u001b[1;34m' '\u001b[0m\u001b[1;33m.\u001b[0m\u001b[0mjoin\u001b[0m\u001b[1;33m(\u001b[0m\u001b[0mcorrects\u001b[0m\u001b[1;33m)\u001b[0m\u001b[1;33m\u001b[0m\u001b[0m\n",
      "\u001b[1;32mC:\\ProgramData\\Anaconda3\\lib\\site-packages\\gingerit\\gingerit.py\u001b[0m in \u001b[0;36mparse\u001b[1;34m(self, text, verify)\u001b[0m\n\u001b[0;32m     25\u001b[0m             \u001b[0mverify\u001b[0m\u001b[1;33m=\u001b[0m\u001b[0mverify\u001b[0m\u001b[1;33m,\u001b[0m\u001b[1;33m\u001b[0m\u001b[0m\n\u001b[0;32m     26\u001b[0m         )\n\u001b[1;32m---> 27\u001b[1;33m         \u001b[0mdata\u001b[0m \u001b[1;33m=\u001b[0m \u001b[0mrequest\u001b[0m\u001b[1;33m.\u001b[0m\u001b[0mjson\u001b[0m\u001b[1;33m(\u001b[0m\u001b[1;33m)\u001b[0m\u001b[1;33m\u001b[0m\u001b[0m\n\u001b[0m\u001b[0;32m     28\u001b[0m         \u001b[1;32mreturn\u001b[0m \u001b[0mself\u001b[0m\u001b[1;33m.\u001b[0m\u001b[0m_process_data\u001b[0m\u001b[1;33m(\u001b[0m\u001b[0mtext\u001b[0m\u001b[1;33m,\u001b[0m \u001b[0mdata\u001b[0m\u001b[1;33m)\u001b[0m\u001b[1;33m\u001b[0m\u001b[0m\n\u001b[0;32m     29\u001b[0m \u001b[1;33m\u001b[0m\u001b[0m\n",
      "\u001b[1;32mC:\\ProgramData\\Anaconda3\\lib\\site-packages\\requests\\models.py\u001b[0m in \u001b[0;36mjson\u001b[1;34m(self, **kwargs)\u001b[0m\n\u001b[0;32m    915\u001b[0m                 \u001b[1;32mraise\u001b[0m \u001b[0mRequestsJSONDecodeError\u001b[0m\u001b[1;33m(\u001b[0m\u001b[0me\u001b[0m\u001b[1;33m.\u001b[0m\u001b[0mmessage\u001b[0m\u001b[1;33m)\u001b[0m\u001b[1;33m\u001b[0m\u001b[0m\n\u001b[0;32m    916\u001b[0m             \u001b[1;32melse\u001b[0m\u001b[1;33m:\u001b[0m\u001b[1;33m\u001b[0m\u001b[0m\n\u001b[1;32m--> 917\u001b[1;33m                 \u001b[1;32mraise\u001b[0m \u001b[0mRequestsJSONDecodeError\u001b[0m\u001b[1;33m(\u001b[0m\u001b[0me\u001b[0m\u001b[1;33m.\u001b[0m\u001b[0mmsg\u001b[0m\u001b[1;33m,\u001b[0m \u001b[0me\u001b[0m\u001b[1;33m.\u001b[0m\u001b[0mdoc\u001b[0m\u001b[1;33m,\u001b[0m \u001b[0me\u001b[0m\u001b[1;33m.\u001b[0m\u001b[0mpos\u001b[0m\u001b[1;33m)\u001b[0m\u001b[1;33m\u001b[0m\u001b[0m\n\u001b[0m\u001b[0;32m    918\u001b[0m \u001b[1;33m\u001b[0m\u001b[0m\n\u001b[0;32m    919\u001b[0m     \u001b[1;33m@\u001b[0m\u001b[0mproperty\u001b[0m\u001b[1;33m\u001b[0m\u001b[0m\n",
      "\u001b[1;31mJSONDecodeError\u001b[0m: [Errno Expecting value] <!DOCTYPE html>\n<html lang=\"en-US\">\n   <head>\n      <title>Access denied</title>\n      <meta http-equiv=\"X-UA-Compatible\" content=\"IE=Edge\" />\n      <meta name=\"robots\" content=\"noindex, nofollow\" />\n      <meta name=\"viewport\" content=\"width=device-width,initial-scale=1\" />\n      <link rel=\"stylesheet\" href=\"/cdn-cgi/styles/errors.css\" media=\"screen\" />\n      <script>\n(function(){if(document.addEventListener&&window.XMLHttpRequest&&JSON&&JSON.stringify){var e=function(a){var c=document.getElementById(\"error-feedback-survey\"),d=document.getElementById(\"error-feedback-success\"),b=new XMLHttpRequest;a={event:\"feedback clicked\",properties:{errorCode:1020,helpful:a,version:5}};b.open(\"POST\",\"https://sparrow.cloudflare.com/api/v1/event\");b.setRequestHeader(\"Content-Type\",\"application/json\");b.setRequestHeader(\"Sparrow-Source-Key\",\"c771f0e4b54944bebf4261d44bd79a1e\");\nb.send(JSON.stringify(a));c.classList.add(\"feedback-hidden\");d.classList.remove(\"feedback-hidden\")};document.addEventListener(\"DOMContentLoaded\",function(){var a=document.getElementById(\"error-feedback\"),c=document.getElementById(\"feedback-button-yes\"),d=document.getElementById(\"feedback-button-no\");\"classList\"in a&&(a.classList.remove(\"feedback-hidden\"),c.addEventListener(\"click\",function(){e(!0)}),d.addEventListener(\"click\",function(){e(!1)}))})}})();\n</script>\n\n      <script>\n      (function(){function d(c){var b=document.getElementById(\"copy-label\"),a=document.getElementById(\"cf-details-wrapper-expandable\");c.target.checked?a.classList.add(\"expanded\"):(a.classList.remove(\"expanded\"),b.innerText=\"Click to copy\")}if(document.addEventListener){var e=function(){var c=document.getElementById(\"copy-label\");var b=document.getElementById(\"error-details\").textContent;if(navigator.clipboard)navigator.clipboard.writeText(b);else{var a=document.createElement(\"textarea\");a.value=b;a.style.top=\"0\";a.style.left=\"0\";a.style.position=\"fixed\";document.body.appendChild(a);a.focus();a.select();document.execCommand(\"copy\");document.body.removeChild(a)}c.innerText=\"Copied text to clipboard\"};document.addEventListener(\"DOMContentLoaded\",function(){var c=document.getElementById(\"error-details-checkbox\"),b=document.getElementById(\"click-to-copy-btn\");document.getElementById(\"copy-label\").classList.remove(\"hidden\");c.addEventListener(\"change\",d);b.addEventListener(\"click\",e)})}})();\n      </script>\n      <script defer src=\"https://performance.radar.cloudflare.com/beacon.js\"></script>\n   </head>\n   <body>\n   <div class=\"cf-main-wrapper\" role=\"main\">\n      <div class=\"cf-header cf-section\">\n         <div class=\"cf-error-title\">\n            <h1>Access denied</h1>\n            <span class=\"cf-code-label\">Error code <span>1020</span></span>\n         </div>\n         <div class=\"cf-error-description\">\n            <p>You do not have access to services.gingersoftware.com.</p><p>The site owner may have set restrictions that prevent you from accessing the site.</p>\n         </div>\n      </div>\n   </div>\n\n   <div class=\"cf-details-wrapper\">\n      <div class=\"cf-section\" role=\"region\">\n         <div class=\"cf-expandable\" id=\"cf-details-wrapper-expandable\">\n            <label for=\"error-details-checkbox\" title=\"Error details\" class=\"cf-expandable-btn\">\n               <p class=\"cf-dropdown-title\">Error details</p>\n               <img src=\"data:image/png;base64,iVBORw0KGgoAAAANSUhEUgAAACAAAAAgBAMAAACBVGfHAAAAElBMVEUAAAAwMDAxMTEyMjIwMDAxMTF+89HTAAAABXRSTlMAf2CAMKS61bwAAABTSURBVCjPzcq7DcAgFENR5zMATfo06TNCViAS+6+CeFi6gglw4eLqaPVtaQpXnkApaQT/k0dw70EAUhCA1AnABGACMAGYAEwAkCOAydv+I5xaZhXWbQrD80TkkQAAAABJRU5ErkJggg==\"\n               class=\"cf-caret-icon\" id=\"caret-icon\" alt=\"Caret icon\" />\n            </label>\n\n            <input id=\"error-details-checkbox\" class=\"hidden\" type=\"checkbox\">\n\n            <div class=\"cf-expandable-error-info hidden\">\n               <p class=\"cf-error-copy-description\">Provide the site owner this information.</p>\n               <button class=\"cf-click-to-copy-btn\" id=\"click-to-copy-btn\" title=\"Click to copy\" type=\"button\">\n<div class=\"cf-error-wrapper\" id=\"error-details\"><p class=\"cf-error-details-endpoint\">I got an error when visiting services.gingersoftware.com/Ginger/correct/jsonSecured/GingerTheTextFull?lang=US&amp;apiKey=6ae0c3a0-afdc-4532-a810-82ded0054236&amp;clientVersion=2.0&amp;text=onne+is+enough.</p>\n\n<p>Error code: 1020</p>\n<p>Ray ID: 7a4459908a0e52d4</p>\n<p>Country: IN</p>\n<p>Data center: ccu02</p>\n<p>IP: 106.197.19.142</p>\n<p>Timestamp: 2023-03-07 16:52:36 UTC</p>\n</div>\n                  <p class=\"cf-copy-label hidden\" id=\"copy-label\">Click to copy</p>\n               </button>\n            </div>\n         </div>\n      </div>\n\n      <div class=\"clearfix cf-footer cf-section\" role=\"contentinfo\">\n      <div class=\"cf-column\">\n           <div class=\"feedback-hidden py-8 text-center\" id=\"error-feedback\">\n    <div id=\"error-feedback-survey\" class=\"footer-line-wrapper\">\n        Was this page helpful?\n        <button class=\"border border-solid bg-white cf-button cursor-pointer ml-4 px-4 py-2 rounded\" id=\"feedback-button-yes\" type=\"button\">Yes</button>\n        <button class=\"border border-solid bg-white cf-button cursor-pointer ml-4 px-4 py-2 rounded\" id=\"feedback-button-no\" type=\"button\">No</button>\n    </div>\n    <div class=\"feedback-success feedback-hidden\" id=\"error-feedback-success\">\n        Thank you for your feedback!\n    </div>\n</div>\n\n      </div>\n         <div class=\"cf-column cf-footer-line-wrapper text-center\">\n            <p>\n               Performance &amp; security by <a rel=\"noopener noreferrer\" href=\"https://www.cloudflare.com?utm_source=1020_error\" target=\"_blank\">Cloudflare <img class=\"external-link\" title=\"Opens in new tab\" src=\"/cdn-cgi/images/external.png\" alt=\"External link\"></a>\n            </p>\n         </div>\n      </div>\n   </div>\n</body>\n</html>\n: 0"
     ]
    }
   ],
   "source": [
    "from gingerit.gingerit import GingerIt\n",
    "example = input(\"Enter the input text:  \")\n",
    "n=500\n",
    "chunks = [example[i:i+n] for i in range(0, len(example), n)]\n",
    "corrects=[]\n",
    "for w in chunks:\n",
    "  correct = GingerIt().parse(w)\n",
    "  corrects.append(correct['result'])\n",
    "slang_correct= ' '.join(corrects)\n",
    "print(slang_correct)"
   ]
  },
  {
   "cell_type": "code",
   "execution_count": null,
   "metadata": {
    "id": "81d06259"
   },
   "outputs": [],
   "source": [
    "import contractions\n",
    "from nltk.stem import PorterStemmer\n",
    "from nltk.tokenize import word_tokenize\n",
    "from nltk.metrics.distance import jaccard_distance\n",
    "from nltk.util import ngrams \n",
    "from gingerit.gingerit import GingerIt\n",
    "global i\n",
    "def review_preprocess(review):\n",
    "    \"\"\"\n",
    "    Takes in a string of review, then performs the following:\n",
    "    1. Remove HTML tag from review\n",
    "    2. Remove URLs from review\n",
    "    3. Make entire review lowercase\n",
    "    4. Split the review in words\n",
    "    5. Remove all punctuation\n",
    "    6. Remove empty strings from review\n",
    "    7. Remove all stopwords\n",
    "    8. Returns a list of the cleaned review after jioning them back to a sentence\n",
    "    \"\"\"\n",
    "    \n",
    "    en_stops = set(stopwords.words('english'))\n",
    "    ps = PorterStemmer()\n",
    "    \"\"\"\n",
    "    Removing HTML tag from review\n",
    "    \"\"\"\n",
    "    clean = re.compile('<.*?>')\n",
    "    review_without_tag = re.sub(clean, '', review) \n",
    "    \n",
    "    \"\"\"\n",
    "    Removing URLs\n",
    "    \"\"\"\n",
    "    review_without_tag_and_url = re.sub(r\"http\\S+\", \"\", review_without_tag)\n",
    "    \n",
    "    review_without_tag_and_url = re.sub(r\"www\\S+\", \"\", review_without_tag)\n",
    "    \n",
    "    \"\"\"\n",
    "    Make entire string lowercase\n",
    "    \"\"\"\n",
    "    review_lowercase = review_without_tag_and_url.lower()\n",
    "    \"\"\"\n",
    "    expanded words using contractions\n",
    "    \"\"\"\n",
    "    expanded_words=[]\n",
    "    for w in review_lowercase.split():\n",
    "      expanded_words.append(contractions.fix(w))\n",
    "    expanded_word=' '.join(expanded_words)\n",
    "    \n",
    "    \"\"\"\n",
    "    Split string into words\n",
    "    \"\"\"\n",
    "    list_of_words = word_tokenize(expanded_word)\n",
    "    \n",
    "    \n",
    "  \n",
    "    username_substitute=[ 'atuser' if w.startswith('@') else w  for w in list_of_words ]\n",
    "\n",
    "    \"\"\"\n",
    "    Remove punctuation\n",
    "    Checking characters to see if they are in punctuation\n",
    "    \"\"\"\n",
    "\n",
    "    list_of_words_without_punctuation=[''.join(this_char for this_char in this_string if (this_char in string.ascii_lowercase))for this_string in username_substitute]\n",
    "     \n",
    "    \n",
    "    \"\"\"\n",
    "    Remove empty strings\n",
    "    \"\"\"\n",
    "    list_of_words_without_punctuation = list(filter(None, list_of_words_without_punctuation))\n",
    "    \"\"\"\n",
    "    Mystring =' '.join(list_of_words_without_punctuation)\n",
    "    \n",
    "    n=500\n",
    "    chunks = [Mystring[i:i+n] for i in range(0, len(Mystring), n)]\n",
    "    corrects=[]\n",
    "    for w in chunks:\n",
    "      correct = GingerIt().parse(w)\n",
    "      corrects.append(correct['result'])\n",
    "    slang_correct= ' '.join(corrects)\n",
    "    list_words = word_tokenize(slang_correct)\n",
    "    \"\"\"\n",
    "    \"\"\"\n",
    "    Remove any stopwords\n",
    "    \"\"\"\n",
    "  \n",
    "    filtered_word_list = [w for w in list_of_words_without_punctuation if w not in en_stops] \n",
    "    \n",
    "    \n",
    "  \n",
    "    #list_words=[]\n",
    "    #for word in filtered_word_list:\n",
    "    #  if len(word) != 1:\n",
    "    #   temp = [(jaccard_distance(set(ngrams(word, 2)),\n",
    "    #                         set(ngrams(w, 2))),w)\n",
    "    #        for w in correct_words if w[0]==word[0]]\n",
    "    #    words=sorted(temp, key = lambda val:val[0])[0][1]\n",
    "    #    list_words.append(words)\n",
    "    \n",
    "    \n",
    "    \"\"\"\n",
    "    Stemming\n",
    "    \"\"\"\n",
    "    Stemmed_words=[ps.stem(w) for w in filtered_word_list]\n",
    "   \n",
    "    \"\"\"\n",
    "    Returns a list of the cleaned review after joining them back to a sentence\n",
    "    \"\"\"\n",
    "    # loop for finding correct spellings\n",
    "    # based on jaccard distance\n",
    "    # and printing the correct word\n",
    "    \n",
    "    \n",
    "    return ' '.join(Stemmed_words)\n",
    "   \n"
   ]
  },
  {
   "cell_type": "code",
   "execution_count": null,
   "metadata": {
    "id": "DhET98X-SogD"
   },
   "outputs": [],
   "source": [
    "#from textblob import TextBlob\n",
    "#def spellcheck(review):\n",
    "  #line == text \n",
    "  #blob=TextBlob(review)\n",
    "  #return blob.correct()\n",
    "#line=['@username','fghh','@r','@']\n",
    "#username_substitute=[ 'atuser' if w.startswith('@') else w  for w in list_words ]\n",
    "#print(username_substitute)"
   ]
  },
  {
   "cell_type": "code",
   "execution_count": null,
   "metadata": {
    "colab": {
     "base_uri": "https://localhost:8080/"
    },
    "id": "747649e2",
    "outputId": "43885f1b-1ef4-4ee1-bf8e-b8552d5418b5"
   },
   "outputs": [
    {
     "name": "stdout",
     "output_type": "stream",
     "text": [
      "Reviews\n",
      "0        onn review mention watch oz episod hook right ...\n",
      "1        wonder littl product film techniqu unassum old...\n",
      "2        thought wonder way spend time hot summer weeke...\n",
      "3        basic famili littl boy jake think zombi closet...\n",
      "4        petter mattei love time money visual stun film...\n",
      "                               ...                        \n",
      "49995    thought movi right good job creativ origin fir...\n",
      "49996    bad plot bad dialogu bad act idiot direct anno...\n",
      "49997    cathol taught parochi elementari school nun ta...\n",
      "49998    go disagre previou comment side maltin one sec...\n",
      "49999    one expect star trek movi high art fan expect ...\n",
      "Name: review, Length: 50000, dtype: object \n",
      "\n",
      "Sentiment\n",
      "0        1\n",
      "1        1\n",
      "2        1\n",
      "3        0\n",
      "4        1\n",
      "        ..\n",
      "49995    1\n",
      "49996    0\n",
      "49997    0\n",
      "49998    0\n",
      "49999    0\n",
      "Name: sentiment, Length: 50000, dtype: int64\n"
     ]
    }
   ],
   "source": [
    "def load_dataset(df):\n",
    "    df_new = df.copy()\n",
    "    data = df.review\n",
    "    df_new['Sentence_length'] = pd.Series([len(r) for r in data])\n",
    "    df_new['Word_num'] = pd.Series([len(r.split(' ')) for r in data])\n",
    "    # PRE-PROCESS REVIEW\n",
    "    i=0\n",
    "    \n",
    "    df_new['review'] = df_new['review'].replace({'<.*?>': ''}, regex = True)          # remove html tag\n",
    "    #df_new['review'] = df_new['review'].apply(spellcheck)\n",
    "\n",
    "    df_new['review'] = df_new['review'].apply(review_preprocess)\n",
    "    \n",
    "    df_new['review'] = df_new['review'].replace({'[^A-Za-z]': ' '}, regex = True)     # remove non alphabet\n",
    "    #df_new['review'] = df_new['review'].apply(lambda review: [w for w in review.split() if w not in english_stops])  # remove stop words\n",
    "  \n",
    "\n",
    "       \n",
    "    \n",
    "    #x_data = x_data.apply(lambda review: [w.lower() for w in review])   # lower case\n",
    "    \n",
    "    # ENCODE SENTIMENT -> 0 & 1\n",
    "    df_new['sentiment'] = df_new['sentiment'].replace('positive', 1)\n",
    "    df_new['sentiment'] = df_new['sentiment'].replace('negative', 0)\n",
    "\n",
    "    return df_new\n",
    "\n",
    "train_new = load_dataset(train)\n",
    "\n",
    "print('Reviews')\n",
    "print(train_new['review'], '\\n')\n",
    "\n",
    "print('Sentiment')\n",
    "print(train_new['sentiment'])"
   ]
  },
  {
   "cell_type": "code",
   "execution_count": null,
   "metadata": {
    "colab": {
     "base_uri": "https://localhost:8080/"
    },
    "id": "DkdouaXNS73h",
    "outputId": "dda4a0b3-8ea7-4aa8-9c3b-eeaedf80fb5b"
   },
   "outputs": [
    {
     "name": "stdout",
     "output_type": "stream",
     "text": [
      "disclaim seen movi time last year saw music week allow judg movi without taint music howev taint watch music actual believ michael dougla work quit well role along kasey think let danc scene one best part movi worthwhil addit compar music dancer sing movi much superior music well cast least time bigger easier movi cours decor light danc sing also much superior movi expect inde deliv song common music better done movi new one quit good one whole movi deliv music opinion especi compar music decor one bad point movi obviou cut actor talk dub singer sing portion charact danc impecc end product enjoy music\n"
     ]
    }
   ],
   "source": [
    "print(train_new.loc[45,'review'])"
   ]
  },
  {
   "cell_type": "code",
   "execution_count": null,
   "metadata": {
    "id": "HiJiPPCXxEKk"
   },
   "outputs": [],
   "source": []
  },
  {
   "cell_type": "code",
   "execution_count": null,
   "metadata": {
    "colab": {
     "base_uri": "https://localhost:8080/",
     "height": 729
    },
    "id": "df38f106",
    "outputId": "df09b63c-cc02-4176-82fe-32d951840d3f"
   },
   "outputs": [
    {
     "name": "stderr",
     "output_type": "stream",
     "text": [
      "/usr/local/lib/python3.8/dist-packages/seaborn/distributions.py:2619: FutureWarning: `distplot` is a deprecated function and will be removed in a future version. Please adapt your code to use either `displot` (a figure-level function with similar flexibility) or `histplot` (an axes-level function for histograms).\n",
      "  warnings.warn(msg, FutureWarning)\n",
      "/usr/local/lib/python3.8/dist-packages/seaborn/distributions.py:2619: FutureWarning: `distplot` is a deprecated function and will be removed in a future version. Please adapt your code to use either `displot` (a figure-level function with similar flexibility) or `histplot` (an axes-level function for histograms).\n",
      "  warnings.warn(msg, FutureWarning)\n",
      "WARNING:matplotlib.legend:No handles with labels found to put in legend.\n"
     ]
    },
    {
     "data": {
      "image/png": "[encoded data removed]",
      "text/plain": [
       "<Figure size 1008x720 with 2 Axes>"
      ]
     },
     "metadata": {
      "needs_background": "light"
     },
     "output_type": "display_data"
    }
   ],
   "source": [
    "fig, ax = plt.subplots(1, 2, figsize=(14, 10))\n",
    "sns.distplot(train_new.Sentence_length, ax=ax[0])\n",
    "ax[0].set_title('Sentence Length distribution')\n",
    "sns.distplot(train_new.Word_num, ax=ax[1])\n",
    "ax[1].set_title('Word number distribution')\n",
    "plt.legend()\n",
    "plt.show()"
   ]
  },
  {
   "cell_type": "code",
   "execution_count": null,
   "metadata": {
    "id": "a20b1108"
   },
   "outputs": [],
   "source": [
    "def evaluate(y, pred, p_diff_thre=False):\n",
    "    if pred.shape[1] == 2:\n",
    "        pred = np.argmax(pred, axis=1)\n",
    "    if y.shape[1] == 2:\n",
    "        y = np.argmax(y, axis=1)\n",
    "    score = metrics.f1_score(y, pred)\n",
    "    print('F1-score=%.4f'%(score))\n",
    "    if p_diff_thre:\n",
    "        for thr in np.arange(.1, .501, .01):\n",
    "            thr = np.round(thr, 2)\n",
    "            print('Threshold: %.3f, F1-Score: %.4f'%(thr, metrics.f1_score(y, (pred>thr).astype(int))))\n",
    "    return score"
   ]
  },
  {
   "cell_type": "code",
   "execution_count": null,
   "metadata": {
    "colab": {
     "base_uri": "https://localhost:8080/"
    },
    "id": "f0979291",
    "outputId": "f5bab7e6-92e9-46bd-eda4-7731bfec5351"
   },
   "outputs": [
    {
     "name": "stderr",
     "output_type": "stream",
     "text": [
      "[nltk_data] Downloading package punkt to /root/nltk_data...\n",
      "[nltk_data]   Package punkt is already up-to-date!\n"
     ]
    }
   ],
   "source": [
    "import nltk\n",
    "nltk.download('punkt')\n",
    "tag_d = np.array(train_new.review)\n",
    "\n",
    "tagged_data = [TaggedDocument(words=word_tokenize(d.lower()), \n",
    "                              tags=[str(i)]) for i, d in enumerate(tag_d)]"
   ]
  },
  {
   "cell_type": "code",
   "execution_count": null,
   "metadata": {
    "id": "f05161dd"
   },
   "outputs": [],
   "source": [
    "def doc2vec_training(tagged_data):\n",
    "    epochs = 15   # How many epochs to be trained\n",
    "    vector_size = 100  # How many dimensions\n",
    "    alpha = .025   # Initial learning rate\n",
    "    min_alpha = .00025  # Learning rate changes step\n",
    "    dm = 1   # Use Distributed bags of words\n",
    "    \n",
    "    # Start build model\n",
    "    model = Doc2Vec(vector_size=vector_size, window=2,alpha=alpha,min_alpha=min_alpha, min_count=1, dm=dm, workers=4)\n",
    "    model.build_vocab(tagged_data)\n",
    "    \n",
    "    # start to train model\n",
    "    for e in range(epochs):\n",
    "        model.train(tagged_data, total_examples=model.corpus_count, epochs=1)\n",
    "        # decrease learning rate\n",
    "        model.alpha -= min_alpha\n",
    "        model.min_alpha = model.alpha\n",
    "        print('Now is epochs: %02d'%(e))\n",
    "    print('Finished model training process')\n",
    "    \n",
    "    return model"
   ]
  },
  {
   "cell_type": "code",
   "execution_count": null,
   "metadata": {
    "colab": {
     "base_uri": "https://localhost:8080/"
    },
    "id": "f73dc0e7",
    "outputId": "4b13eda0-dc00-483c-ca5f-41907cd7e495"
   },
   "outputs": [
    {
     "name": "stderr",
     "output_type": "stream",
     "text": [
      "WARNING:gensim.models.base_any2vec:Effective 'alpha' higher than previous training cycles\n"
     ]
    },
    {
     "name": "stdout",
     "output_type": "stream",
     "text": [
      "Now is epochs: 00\n",
      "Now is epochs: 01\n",
      "Now is epochs: 02\n",
      "Now is epochs: 03\n",
      "Now is epochs: 04\n",
      "Now is epochs: 05\n",
      "Now is epochs: 06\n",
      "Now is epochs: 07\n",
      "Now is epochs: 08\n",
      "Now is epochs: 09\n",
      "Now is epochs: 10\n",
      "Now is epochs: 11\n",
      "Now is epochs: 12\n",
      "Now is epochs: 13\n",
      "Now is epochs: 14\n",
      "Finished model training process\n"
     ]
    }
   ],
   "source": [
    "doc2vec_model = doc2vec_training(tagged_data)\n"
   ]
  },
  {
   "cell_type": "code",
   "execution_count": null,
   "metadata": {
    "colab": {
     "base_uri": "https://localhost:8080/",
     "height": 36
    },
    "id": "5a168bf4",
    "outputId": "0595e715-8b96-41e6-cb18-38b7f71e1d1b"
   },
   "outputs": [
    {
     "data": {
      "application/vnd.google.colaboratory.intrinsic+json": {
       "type": "string"
      },
      "text/plain": [
       "'\\nxtrain_testing=doc2vec_train.tolist()\\nxa=[]\\nxa=np.array(xtrain_testing)\\nxtrain_testings= xa.reshape(-1,10,10)\\n'"
      ]
     },
     "execution_count": 140,
     "metadata": {},
     "output_type": "execute_result"
    }
   ],
   "source": [
    "\n",
    "doc2vec_train = doc2vec_model.docvecs\n",
    "\n",
    "doc2vec_t = []\n",
    "for i in range(50000):\n",
    "  doc2vec_temp= doc2vec_model.docvecs[i]\n",
    "  dc=doc2vec_temp.tolist()\n",
    "  doc2vec_t.append(dc)\n",
    "\n",
    "\n",
    "\n",
    "\n",
    "\n",
    "\"\"\"\n",
    "xtrain_testing=doc2vec_train.tolist()\n",
    "xa=[]\n",
    "xa=np.array(xtrain_testing)\n",
    "xtrain_testings= xa.reshape(-1,10,10)\n",
    "\"\"\""
   ]
  },
  {
   "cell_type": "code",
   "execution_count": null,
   "metadata": {
    "colab": {
     "base_uri": "https://localhost:8080/"
    },
    "id": "8iQDnw-1fP17",
    "outputId": "bf720fc6-7529-49dd-dfbf-4851755fb555"
   },
   "outputs": [
    {
     "name": "stdout",
     "output_type": "stream",
     "text": [
      "(50000, 100)\n"
     ]
    }
   ],
   "source": [
    "test=np.array(doc2vec_t)\n",
    "print(test.shape)"
   ]
  },
  {
   "cell_type": "code",
   "execution_count": null,
   "metadata": {
    "colab": {
     "base_uri": "https://localhost:8080/"
    },
    "id": "c6BL-qY-CS1R",
    "outputId": "426f67f2-e223-428f-e252-833441727f92"
   },
   "outputs": [
    {
     "name": "stdout",
     "output_type": "stream",
     "text": [
      "['onn review mention watch oz episod hook right exactli happen meth first thing struck oz brutal unflinch scene violenc set right word go trust show faint heart timid show pull punch regard drug sex violenc hardcor classic use wordit call oz nicknam given oswald maximum secur state penitentari focus mainli emerald citi experiment section prison cell glass front face inward privaci high agenda citi home mani aryan muslim gangsta latino christian italian irish scuffl death stare dodgi deal shadi agreement never far awayi would say main appeal show due fact goe show would dare forget pretti pictur paint mainstream audienc forget charm forget romanc oz mess around first episod ever saw struck nasti surreal could say readi watch develop tast oz got accustom high level graphic violenc violenc injustic crook guard sold nickel inmat kill order get away well manner middl class inmat turn prison bitch due lack street skill prison experi watch oz may becom comfort uncomfort view get touch darker side'\n",
      " 'wonder littl product film techniqu unassum oldtimebbc fashion give comfort sometim discomfort sens realism entir piec actor extrem well chosen michael sheen got polari voic pat truli see seamless edit guid refer william diari entri well worth watch terrificli written perform piec master product one great master comedi life realism realli come home littl thing fantasi guard rather use tradit dream techniqu remain solid disappear play knowledg sens particularli scene concern orton halliwel set particularli flat halliwel mural decor everi surfac terribl well done'\n",
      " 'thought wonder way spend time hot summer weekend sit air condit theater watch lightheart comedi plot simplist dialogu witti charact likabl even well bread suspect serial killer may disappoint realiz match point risk addict thought proof woodi allen still fulli control style mani us grown lovethi would laugh one woodi comedi year dare say decad never impress scarlet johanson manag tone sexi imag jump right averag spirit young womanthi may crown jewel career wittier devil wear prada interest superman great comedi go see friend'\n",
      " ...\n",
      " 'cathol taught parochi elementari school nun taught jesuit priest high school colleg still practic cathol would consid good cathol church eye believ certain thing act certain way church tell toso back movi bad two peopl kill nun suppos satir embodi femal religi figurehead comedi satir done well act dian keaton never saw play differ movi may goodat first thought gun might fake first shoot plan femal lead four former student attempt demonstr sister mari emot intellectu bigotri faith turn bullet real stori tragedi tragedi loss life besid two former student live abort babi life student mom tragedi dogmat author love peopl tragedi organ religion replac true faith god wrong today islam yesterday judaism christian'\n",
      " 'go disagre previou comment side maltin one second rate excess viciou western creak groan tri put across central theme wild west tame kick asid steadi march time would like tradit butch cassidi sundanc kid lack film poignanc charm andrew mclaglen direct limp final minut real botch incomprehens strategi part hero charlton heston chri mitchum someon give holler explain set hillsid fire someth callou whole treatment rape scene woman reaction afterward certainli ring true coburn plenti nasti half breed escap convict reveng fellow escape underdevelop like bowl pin knock one one stori lurch forward michael park give one typic shifti letharg mumbl perform case appropri modern style sheriff symbol complac technolog progress bring'\n",
      " 'one expect star trek movi high art fan expect movi good best episod unfortun movi muddl implaus plot left cring far worst nine far movi even chanc watch well known charact interact anoth movi save movi includ goofi scene kirk spock mccoy yosemitei would say movi worth rental hardli worth watch howev true fan need see movi rent movi way see even cabl channel avoid movi']\n"
     ]
    }
   ],
   "source": [
    "print(tag_d)"
   ]
  },
  {
   "cell_type": "code",
   "execution_count": null,
   "metadata": {
    "id": "X3CUrm0UBbTj"
   },
   "outputs": [],
   "source": [
    "from sklearn.feature_extraction.text import TfidfVectorizer\n",
    "tf_idf = TfidfVectorizer()\n",
    "X_train_tf = tf_idf.fit_transform(tag_d)\n"
   ]
  },
  {
   "cell_type": "code",
   "execution_count": null,
   "metadata": {
    "colab": {
     "base_uri": "https://localhost:8080/"
    },
    "id": "zhqqXgktCacK",
    "outputId": "70ce4784-e284-4c30-f637-7b8ab110b423"
   },
   "outputs": [
    {
     "name": "stdout",
     "output_type": "stream",
     "text": [
      "(50000, 147200)\n"
     ]
    }
   ],
   "source": [
    "print(X_train_tf.shape)"
   ]
  },
  {
   "cell_type": "code",
   "execution_count": null,
   "metadata": {
    "colab": {
     "base_uri": "https://localhost:8080/"
    },
    "id": "FLCzVVAKnl_p",
    "outputId": "e4db42b5-6cbb-4450-a8b4-cf9dffb00c5b"
   },
   "outputs": [
    {
     "name": "stdout",
     "output_type": "stream",
     "text": [
      "  (0, 116450)\t0.04855676942529433\n",
      "  (0, 29863)\t0.07813656002723328\n",
      "  (0, 132222)\t0.04950978151418228\n",
      "  (0, 138896)\t0.04357581271691402\n",
      "  (0, 135414)\t0.07382407974457685\n",
      "  (0, 24838)\t0.06784980922872802\n",
      "  (0, 11193)\t0.03957620596503736\n",
      "  (0, 78707)\t0.03892413006967153\n",
      "  (0, 42038)\t0.04738131976725204\n",
      "  (0, 117522)\t0.059716966535659756\n",
      "  (0, 123175)\t0.05479544221713696\n",
      "  (0, 70647)\t0.04516309907524751\n",
      "  (0, 13314)\t0.08188808181992785\n",
      "  (0, 134085)\t0.03701698484935744\n",
      "  (0, 23181)\t0.05491526346651622\n",
      "  (0, 80813)\t0.054368805112756546\n",
      "  (0, 77372)\t0.059716966535659756\n",
      "  (0, 141611)\t0.02734641957934157\n",
      "  (0, 8732)\t0.04037273880323424\n",
      "  (0, 51008)\t0.04879313689303432\n",
      "  (0, 92436)\t0.050402595612568414\n",
      "  (0, 69055)\t0.03964581419389995\n",
      "  (0, 63629)\t0.17301520585718816\n",
      "  (0, 87625)\t0.11193080057599213\n",
      "  (0, 119090)\t0.0738657861651229\n",
      "  :\t:\n",
      "  (0, 56918)\t0.04893729158196438\n",
      "  (0, 43007)\t0.08514872582841844\n",
      "  (0, 115991)\t0.12199138072806817\n",
      "  (0, 133719)\t0.06364665386295647\n",
      "  (0, 51987)\t0.02792911207899237\n",
      "  (0, 144229)\t0.04512882391950819\n",
      "  (0, 114297)\t0.03703827048748172\n",
      "  (0, 139235)\t0.21192479282816748\n",
      "  (0, 111147)\t0.02816610412805834\n",
      "  (0, 135998)\t0.10017008520645058\n",
      "  (0, 16865)\t0.061365864526033535\n",
      "  (0, 123439)\t0.15000886737742009\n",
      "  (0, 129256)\t0.029121782044804253\n",
      "  (0, 46049)\t0.05773067369119344\n",
      "  (0, 80519)\t0.09011802878169489\n",
      "  (0, 55830)\t0.03806065358006939\n",
      "  (0, 41412)\t0.05180381848686493\n",
      "  (0, 107552)\t0.07615507751268133\n",
      "  (0, 59897)\t0.06628669492495093\n",
      "  (0, 40085)\t0.09490070075426194\n",
      "  (0, 94097)\t0.4791971823169247\n",
      "  (0, 140706)\t0.07266315261793434\n",
      "  (0, 80096)\t0.04716756199574709\n",
      "  (0, 107059)\t0.04434855367378902\n",
      "  (0, 91958)\t0.13341504267375512\n"
     ]
    }
   ],
   "source": [
    "print(X_train_tf[0])"
   ]
  },
  {
   "cell_type": "code",
   "execution_count": null,
   "metadata": {
    "colab": {
     "base_uri": "https://localhost:8080/"
    },
    "id": "YXzp4yoCkJ6c",
    "outputId": "1cd2f3d5-a405-4f4f-ede5-9c36828e6173"
   },
   "outputs": [
    {
     "name": "stdout",
     "output_type": "stream",
     "text": [
      "(50000, 1)\n",
      "[[9.67125264]]\n"
     ]
    }
   ],
   "source": [
    "# axis=1 will find the average for the rows\n",
    "# matrix_rows_average = np.mean(X_train_tf, axis=1)\n",
    "matrix_rows_average = np.sum(X_train_tf, axis=1)\n",
    "print(matrix_rows_average.shape)\n",
    "print(matrix_rows_average[0])"
   ]
  },
  {
   "cell_type": "code",
   "execution_count": null,
   "metadata": {
    "colab": {
     "base_uri": "https://localhost:8080/"
    },
    "id": "9Q3KtBvTDxQJ",
    "outputId": "3d3ac3de-4ea1-4694-f2a6-888d3ab30c71"
   },
   "outputs": [
    {
     "name": "stdout",
     "output_type": "stream",
     "text": [
      "[-0.12466055154800415, -1.001327395439148, -0.2649085521697998, -1.6837551593780518, -1.0323970317840576, 0.037406593561172485, -0.6185511350631714, -0.0951271504163742, -0.10436448454856873, -0.570303201675415, 0.03683555871248245, 0.6798723936080933, -0.23436932265758514, 0.6244431138038635, 0.28343701362609863, -0.9598759412765503, 0.7897495031356812, -0.23795157670974731, 0.024983882904052734, 1.5491752624511719, 0.0033626470249146223, 1.3427950143814087, 0.22884023189544678, 0.9564622044563293, -0.14849811792373657, -0.8197351694107056, -0.8504055738449097, -0.8834242224693298, -0.5104461312294006, -1.6921266317367554, 0.05515238270163536, -0.08743620663881302, 0.3786815106868744, -1.5068788528442383, -0.0018765938002616167, -0.6690013408660889, -0.4241851568222046, 0.340421587228775, 1.6300947666168213, -1.1459623575210571, -0.06672725826501846, 0.0984116643667221, 1.835124135017395, 0.3362729549407959, 0.0012874091044068336, -0.6323806047439575, -1.1309974193572998, -1.0348355770111084, 0.16182611882686615, -0.04190002381801605, 0.3560256063938141, 1.962700605392456, -0.2894902527332306, 0.7341476678848267, 0.13287043571472168, -0.36218005418777466, 0.4106162488460541, -0.4352369010448456, 0.37759628891944885, 0.6049811244010925, 0.5326484441757202, -0.23655234277248383, -0.3668045997619629, -0.47514984011650085, 0.18972133100032806, 1.2778879404067993, 0.3246954083442688, 0.9235550761222839, -0.25414252281188965, 0.043443456292152405, 1.2083181142807007, -0.5100878477096558, -0.29144352674484253, -0.4724297821521759, -1.140551209449768, 0.17468543350696564, 0.04174031317234039, 0.7105180025100708, 0.37654170393943787, 0.15280932188034058, 0.3607149124145508, -0.23950272798538208, 0.9634358882904053, -0.5333629250526428, -0.1305021047592163, 0.32783958315849304, -0.13510039448738098, 0.7252435088157654, -0.6378781199455261, -0.3826003670692444, 0.7544377446174622, 0.5622106194496155, 0.33820274472236633, 0.05780041962862015, 0.7183841466903687, 0.05754077434539795, 0.20145843923091888, -0.5204268097877502, -0.3039252758026123, -0.3797825872898102]\n",
      "[[-1.20562369e+00 -9.68409022e+00 -2.56199754e+00 -1.62840215e+01\n",
      "  -9.98457252e+00  3.61768617e-01 -5.98216430e+00 -9.19998705e-01\n",
      "  -1.00933530e+00 -5.51554635e+00  3.56245995e-01  6.57521768e+00\n",
      "  -2.26664493e+00  6.03914712e+00  2.74119097e+00 -9.28320273e+00\n",
      "   7.63786697e+00 -2.30128982e+00  2.41625444e-01  1.49824654e+01\n",
      "   3.25210089e-02  1.29865098e+01  2.21317170e+00  9.25018762e+00\n",
      "  -1.43616282e+00 -7.92786592e+00 -8.22448715e+00 -8.54381885e+00\n",
      "  -4.93665350e+00 -1.63649842e+01  5.33392627e-01 -8.45617645e-01\n",
      "   3.66232456e+00 -1.45734061e+01 -1.81490128e-02 -6.47008099e+00\n",
      "  -4.10240182e+00  3.29230318e+00  1.57650583e+01 -1.10828915e+01\n",
      "  -6.45336173e-01  9.51764069e-01  1.77479491e+01  3.25218070e+00\n",
      "   1.24508587e-02 -6.11591260e+00 -1.09381618e+01 -1.00081563e+01\n",
      "   1.56506128e+00 -4.05225716e-01  3.44321359e+00  1.89817734e+01\n",
      "  -2.79973337e+00  7.10012757e+00  1.28502355e+00 -3.50273481e+00\n",
      "   3.97117348e+00 -4.20928603e+00  3.65182911e+00  5.85092530e+00\n",
      "   5.15137767e+00 -2.28775747e+00 -3.54745996e+00 -4.59529415e+00\n",
      "   1.83484292e+00  1.23587771e+01  3.14021133e+00  8.93193447e+00\n",
      "  -2.45787655e+00  4.20152642e-01  1.16859498e+01 -4.93318845e+00\n",
      "  -2.81862398e+00 -4.56898778e+00 -1.10305589e+01  1.68942696e+00\n",
      "   4.03681114e-01  6.87159911e+00  3.64162995e+00  1.47785756e+00\n",
      "   3.48856505e+00 -2.31629139e+00  9.31763188e+00 -5.15828760e+00\n",
      "  -1.26211883e+00  3.17061944e+00 -1.30659005e+00  7.01401320e+00\n",
      "  -6.16908045e+00 -3.70022481e+00  7.29635803e+00  5.43728094e+00\n",
      "   3.27084419e+00  5.59002461e-01  6.94767458e+00  5.56491366e-01\n",
      "   1.94835546e+00 -5.03317916e+00 -2.93933813e+00 -3.67297335e+00]]\n"
     ]
    }
   ],
   "source": [
    "print(doc2vec_t[0])\n",
    "for i in range(50000):\n",
    "  doc2vec_t[i] = matrix_rows_average[i]*doc2vec_t[i]\n",
    "  \n",
    "print(doc2vec_t[0])\n"
   ]
  },
  {
   "cell_type": "code",
   "execution_count": null,
   "metadata": {
    "colab": {
     "base_uri": "https://localhost:8080/"
    },
    "id": "73cf563c",
    "outputId": "427d0f9f-3c55-43b0-ee80-94aa9e836d27"
   },
   "outputs": [
    {
     "name": "stdout",
     "output_type": "stream",
     "text": [
      "[[-1.20562369e+00 -9.68409022e+00 -2.56199754e+00 -1.62840215e+01\n",
      "  -9.98457252e+00  3.61768617e-01 -5.98216430e+00 -9.19998705e-01\n",
      "  -1.00933530e+00 -5.51554635e+00  3.56245995e-01  6.57521768e+00\n",
      "  -2.26664493e+00  6.03914712e+00  2.74119097e+00 -9.28320273e+00\n",
      "   7.63786697e+00 -2.30128982e+00  2.41625444e-01  1.49824654e+01\n",
      "   3.25210089e-02  1.29865098e+01  2.21317170e+00  9.25018762e+00\n",
      "  -1.43616282e+00 -7.92786592e+00 -8.22448715e+00 -8.54381885e+00\n",
      "  -4.93665350e+00 -1.63649842e+01  5.33392627e-01 -8.45617645e-01\n",
      "   3.66232456e+00 -1.45734061e+01 -1.81490128e-02 -6.47008099e+00\n",
      "  -4.10240182e+00  3.29230318e+00  1.57650583e+01 -1.10828915e+01\n",
      "  -6.45336173e-01  9.51764069e-01  1.77479491e+01  3.25218070e+00\n",
      "   1.24508587e-02 -6.11591260e+00 -1.09381618e+01 -1.00081563e+01\n",
      "   1.56506128e+00 -4.05225716e-01  3.44321359e+00  1.89817734e+01\n",
      "  -2.79973337e+00  7.10012757e+00  1.28502355e+00 -3.50273481e+00\n",
      "   3.97117348e+00 -4.20928603e+00  3.65182911e+00  5.85092530e+00\n",
      "   5.15137767e+00 -2.28775747e+00 -3.54745996e+00 -4.59529415e+00\n",
      "   1.83484292e+00  1.23587771e+01  3.14021133e+00  8.93193447e+00\n",
      "  -2.45787655e+00  4.20152642e-01  1.16859498e+01 -4.93318845e+00\n",
      "  -2.81862398e+00 -4.56898778e+00 -1.10305589e+01  1.68942696e+00\n",
      "   4.03681114e-01  6.87159911e+00  3.64162995e+00  1.47785756e+00\n",
      "   3.48856505e+00 -2.31629139e+00  9.31763188e+00 -5.15828760e+00\n",
      "  -1.26211883e+00  3.17061944e+00 -1.30659005e+00  7.01401320e+00\n",
      "  -6.16908045e+00 -3.70022481e+00  7.29635803e+00  5.43728094e+00\n",
      "   3.27084419e+00  5.59002461e-01  6.94767458e+00  5.56491366e-01\n",
      "   1.94835546e+00 -5.03317916e+00 -2.93933813e+00 -3.67297335e+00]]\n"
     ]
    }
   ],
   "source": [
    "print(doc2vec_t[0])"
   ]
  },
  {
   "cell_type": "code",
   "execution_count": null,
   "metadata": {
    "id": "45089cb3"
   },
   "outputs": [],
   "source": [
    "from tensorflow import keras\n",
    "label = np.asarray(train_new.sentiment).reshape(-1, 1)\n",
    "#label = keras.utils.to_categorical(label)\n",
    "xtrain_doc, xtest_doc, ytrain_doc, ytest_doc = train_test_split(doc2vec_t, label, test_size=.2)"
   ]
  },
  {
   "cell_type": "code",
   "execution_count": null,
   "metadata": {
    "id": "80a5d533"
   },
   "outputs": [],
   "source": [
    "xa=[]\n",
    "xa=np.array(xtrain_doc)\n",
    "xtrain_deep=xa.reshape((-1, 10,10))\n",
    "\n",
    "xa=[]\n",
    "xa=np.array(xtest_doc)\n",
    "xtest_deep=xa.reshape((-1,10,10))\n",
    "ytrain_deep = ytrain_doc.copy()\n",
    "ytest_deep = ytest_doc.copy()"
   ]
  },
  {
   "cell_type": "code",
   "execution_count": null,
   "metadata": {
    "colab": {
     "base_uri": "https://localhost:8080/"
    },
    "id": "Z7Sd1UMtFGcF",
    "outputId": "4895d247-81ac-4e7d-d0b2-aa2cf8ce0c6c"
   },
   "outputs": [
    {
     "name": "stdout",
     "output_type": "stream",
     "text": [
      "(10000, 10, 10)\n"
     ]
    }
   ],
   "source": [
    "\n",
    "print(xtest_deep.shape)"
   ]
  },
  {
   "cell_type": "code",
   "execution_count": null,
   "metadata": {
    "id": "17ee024d"
   },
   "outputs": [],
   "source": [
    "class lstmNet(object):\n",
    "    def __init__(self, n_classes=2, input_dim1=None, input_dim2=None, n_layers=3, use_dropout=True, drop_ratio=.5,\n",
    "                 use_bidirec=False, use_gru=True, rnn_units=100, use_dense=True, dense_units=100, use_batch=True,\n",
    "                 metrics='acc', optimizer='adam'):\n",
    "        self.n_classes = n_classes\n",
    "        self.input_dim1 = input_dim1\n",
    "        self.input_dim2 = input_dim2\n",
    "        self.n_layers = n_layers\n",
    "        self.use_dropout = use_dropout\n",
    "        self.drop_ratio = drop_ratio\n",
    "        self.use_bidierc = use_bidirec\n",
    "        self.use_gru = use_gru\n",
    "        self.rnn_units = rnn_units\n",
    "        self.use_dense = use_dense\n",
    "        self.use_batch = use_batch\n",
    "        self.dense_units = dense_units\n",
    "        self.metrics = metrics\n",
    "        self.optimizer = optimizer\n",
    "        self.model = self._init_model()\n",
    "\n",
    "    def _init_model(self):\n",
    "        inputs = Input(shape=(self.input_dim1, self.input_dim2))\n",
    "\n",
    "        def _lstm_block(layers, name_index=None):\n",
    "            if self.use_bidierc:\n",
    "                res = Bidirectional(LSTM(self.rnn_units, return_sequences=True,\n",
    "                                         recurrent_dropout=self.drop_ratio), name='bidi_lstm_'+str(name_index))(layers)\n",
    "            elif self.use_gru:\n",
    "                res = GRU(self.rnn_units, return_sequences=True,\n",
    "                          recurrent_dropout=self.drop_ratio, name='gru_'+str(name_index))(layers)\n",
    "            else:\n",
    "                res = LSTM(self.rnn_units, return_sequences=True,\n",
    "                           recurrent_dropout=self.drop_ratio, name='lstm_'+str(name_index))(layers)\n",
    "\n",
    "            if self.use_dropout:\n",
    "                res = Dropout(self.drop_ratio)(res)\n",
    "\n",
    "            return res\n",
    "\n",
    "        for i in range(self.n_layers - 1):\n",
    "            if i == 0:\n",
    "                res = _lstm_block(inputs, name_index=i)\n",
    "            else:\n",
    "                res = _lstm_block(res, name_index=i)\n",
    "\n",
    "        # final LSTM layer\n",
    "        if self.use_bidierc:\n",
    "            res = Bidirectional(LSTM(self.rnn_units), name='bire_final')(res)\n",
    "        elif self.use_gru:\n",
    "            res = GRU(self.rnn_units, name='gru_final')(res)\n",
    "        else:\n",
    "            res = LSTM(self.rnn_units, name='lstm_final')(res)\n",
    "\n",
    "        if self.use_dropout:\n",
    "                res = Dropout(self.drop_ratio)(res)\n",
    "        if self.n_classes == 2:\n",
    "            out = Dense(self.n_classes-1, activation='sigmoid', name='out')(res)\n",
    "            model = Model(inputs, out)\n",
    "            print('Model Structure:')\n",
    "            model.summary()\n",
    "            model.compile(loss='binary_crossentropy', metrics=[self.metrics], optimizer=self.optimizer)\n",
    "        elif self.n_classes > 2:\n",
    "            out = Dense(self.n_classes, activation='softmax', name='out')(res)\n",
    "            model = Model(inputs, out)\n",
    "            print('Model Structure:')\n",
    "            model.summary()\n",
    "            model.compile(loss='categorical_crossentropy', metrics=[self.metrics], optimizer=self.optimizer)\n",
    "        else:\n",
    "            raise AttributeError('parameter n_class must be provide up or equals to 2!')\n",
    "\n",
    "        return model\n",
    "    def fit(self, data, label, epochs=100, batch_size=128):\n",
    "        \n",
    "        xtrain, xvalidate, ytrain, yvalidate = train_test_split(data, label, test_size=.2, random_state=1234)\n",
    "        self.his = self.model.fit(xtrain, ytrain, epochs=epochs, batch_size=batch_size, verbose=1,\n",
    "                                  validation_data=(xvalidate, yvalidate))\n",
    "        print('Model evaluation on validation datasets accuracy:{:.2f}'.format(\n",
    "            self.model.evaluate(xvalidate, yvalidate)[1]*100))\n",
    "        return self\n",
    "\n",
    "    def evaluate(self, data, label, batch_size=None, silent=False):\n",
    "        \n",
    "\n",
    "        acc = self.model.evaluate(data, label, batch_size=batch_size)[1]\n",
    "        if not silent:\n",
    "            print('Model accuracy on Testsets : {:.2f}'.format(acc*100))\n",
    "        return acc\n",
    "\n",
    "    def plot_acc_curve(self, plot_acc=True, plot_loss=True, figsize=(8, 6)):\n",
    "        style.use('ggplot')\n",
    "        if plot_acc:\n",
    "            fig1, ax1 = plt.subplots(1, 1, figsize=figsize)\n",
    "            ax1.plot(self.his.history['acc'], label='Train accuracy')\n",
    "            ax1.plot(self.his.history['val_acc'], label='Validation accuracy')\n",
    "            ax1.set_title('Train and validation accuracy curve')\n",
    "            ax1.set_xlabel('Epochs')\n",
    "            ax1.set_ylabel('Accuracy score')\n",
    "            plt.legend()\n",
    "\n",
    "        if plot_loss:\n",
    "            fig2, ax2 = plt.subplots(1, 1, figsize=(8, 6))\n",
    "            ax2.plot(self.his.history['loss'], label='Train Loss')\n",
    "            ax2.plot(self.his.history['val_loss'], label='Validation Loss')\n",
    "            ax2.set_title('Train and validation loss curve')\n",
    "            ax2.set_xlabel('Epochs')\n",
    "            ax2.set_ylabel('Loss score')\n",
    "            plt.legend()\n",
    "\n",
    "        plt.show()\n",
    "    def predict(self,data,label):\n",
    "        y_pred = self.model.predict(data)\n",
    "\n",
    "        true = 0\n",
    "        for i, y in enumerate(label):\n",
    "            if y == np.round(y_pred[i]):\n",
    "                true=true+1\n",
    "\n",
    "        print('Correct Prediction: {}'.format(true))\n",
    "        print('Wrong Prediction: {}'.format(len(y_pred) - true))\n",
    "        print('Accuracy: {}'.format(true/len(y_pred)*100))\n",
    "        return y_pred\n",
    "    "
   ]
  },
  {
   "cell_type": "code",
   "execution_count": null,
   "metadata": {
    "colab": {
     "base_uri": "https://localhost:8080/",
     "height": 1000
    },
    "id": "b1db9e40",
    "outputId": "3f4eff93-9dad-471c-88b4-0709b249c31e"
   },
   "outputs": [
    {
     "name": "stdout",
     "output_type": "stream",
     "text": [
      "Model Structure:\n",
      "Model: \"model_5\"\n",
      "_________________________________________________________________\n",
      " Layer (type)                Output Shape              Param #   \n",
      "=================================================================\n",
      " input_6 (InputLayer)        [(None, 10, 10)]          0         \n",
      "                                                                 \n",
      " gru_0 (GRU)                 (None, 10, 100)           33600     \n",
      "                                                                 \n",
      " dropout_10 (Dropout)        (None, 10, 100)           0         \n",
      "                                                                 \n",
      " gru_final (GRU)             (None, 100)               60600     \n",
      "                                                                 \n",
      " dropout_11 (Dropout)        (None, 100)               0         \n",
      "                                                                 \n",
      " out (Dense)                 (None, 1)                 101       \n",
      "                                                                 \n",
      "=================================================================\n",
      "Total params: 94,301\n",
      "Trainable params: 94,301\n",
      "Non-trainable params: 0\n",
      "_________________________________________________________________\n",
      "Epoch 1/30\n",
      "250/250 [==============================] - 16s 53ms/step - loss: 0.5121 - acc: 0.7457 - val_loss: 0.4201 - val_acc: 0.8084\n",
      "Epoch 2/30\n",
      "250/250 [==============================] - 12s 49ms/step - loss: 0.4277 - acc: 0.8045 - val_loss: 0.4004 - val_acc: 0.8224\n",
      "Epoch 3/30\n",
      "250/250 [==============================] - 12s 50ms/step - loss: 0.4042 - acc: 0.8178 - val_loss: 0.3842 - val_acc: 0.8289\n",
      "Epoch 4/30\n",
      "250/250 [==============================] - 12s 49ms/step - loss: 0.3899 - acc: 0.8271 - val_loss: 0.3769 - val_acc: 0.8311\n",
      "Epoch 5/30\n",
      "250/250 [==============================] - 12s 50ms/step - loss: 0.3758 - acc: 0.8327 - val_loss: 0.3781 - val_acc: 0.8294\n",
      "Epoch 6/30\n",
      "250/250 [==============================] - 12s 50ms/step - loss: 0.3708 - acc: 0.8379 - val_loss: 0.3664 - val_acc: 0.8361\n",
      "Epoch 7/30\n",
      "250/250 [==============================] - 19s 78ms/step - loss: 0.3612 - acc: 0.8420 - val_loss: 0.3735 - val_acc: 0.8388\n",
      "Epoch 8/30\n",
      "250/250 [==============================] - 15s 61ms/step - loss: 0.3541 - acc: 0.8449 - val_loss: 0.3687 - val_acc: 0.8356\n",
      "Epoch 9/30\n",
      "250/250 [==============================] - 12s 50ms/step - loss: 0.3498 - acc: 0.8475 - val_loss: 0.3673 - val_acc: 0.8404\n",
      "Epoch 10/30\n",
      "250/250 [==============================] - 12s 50ms/step - loss: 0.3452 - acc: 0.8508 - val_loss: 0.3645 - val_acc: 0.8406\n",
      "Epoch 11/30\n",
      "250/250 [==============================] - 12s 49ms/step - loss: 0.3408 - acc: 0.8537 - val_loss: 0.3656 - val_acc: 0.8391\n",
      "Epoch 12/30\n",
      "250/250 [==============================] - 12s 49ms/step - loss: 0.3345 - acc: 0.8553 - val_loss: 0.3630 - val_acc: 0.8405\n",
      "Epoch 13/30\n",
      "250/250 [==============================] - 12s 49ms/step - loss: 0.3324 - acc: 0.8588 - val_loss: 0.3642 - val_acc: 0.8421\n",
      "Epoch 14/30\n",
      "250/250 [==============================] - 12s 49ms/step - loss: 0.3261 - acc: 0.8595 - val_loss: 0.3673 - val_acc: 0.8420\n",
      "Epoch 15/30\n",
      "250/250 [==============================] - 12s 50ms/step - loss: 0.3241 - acc: 0.8606 - val_loss: 0.3800 - val_acc: 0.8365\n",
      "Epoch 16/30\n",
      "250/250 [==============================] - 15s 58ms/step - loss: 0.3216 - acc: 0.8636 - val_loss: 0.3652 - val_acc: 0.8426\n",
      "Epoch 17/30\n",
      "250/250 [==============================] - 12s 49ms/step - loss: 0.3166 - acc: 0.8653 - val_loss: 0.3725 - val_acc: 0.8401\n",
      "Epoch 18/30\n",
      "250/250 [==============================] - 12s 50ms/step - loss: 0.3175 - acc: 0.8637 - val_loss: 0.3660 - val_acc: 0.8403\n",
      "Epoch 19/30\n",
      "250/250 [==============================] - 13s 50ms/step - loss: 0.3134 - acc: 0.8672 - val_loss: 0.3677 - val_acc: 0.8420\n",
      "Epoch 20/30\n",
      "250/250 [==============================] - 12s 50ms/step - loss: 0.3101 - acc: 0.8684 - val_loss: 0.3722 - val_acc: 0.8384\n",
      "Epoch 21/30\n",
      "250/250 [==============================] - 12s 50ms/step - loss: 0.3064 - acc: 0.8692 - val_loss: 0.3715 - val_acc: 0.8424\n",
      "Epoch 22/30\n",
      "250/250 [==============================] - 12s 50ms/step - loss: 0.3054 - acc: 0.8696 - val_loss: 0.3773 - val_acc: 0.8390\n",
      "Epoch 23/30\n",
      "250/250 [==============================] - 12s 49ms/step - loss: 0.3001 - acc: 0.8738 - val_loss: 0.3722 - val_acc: 0.8407\n",
      "Epoch 24/30\n",
      "250/250 [==============================] - 12s 50ms/step - loss: 0.2957 - acc: 0.8744 - val_loss: 0.3797 - val_acc: 0.8393\n",
      "Epoch 25/30\n",
      "250/250 [==============================] - 12s 49ms/step - loss: 0.2993 - acc: 0.8714 - val_loss: 0.3841 - val_acc: 0.8414\n",
      "Epoch 26/30\n",
      "250/250 [==============================] - 12s 49ms/step - loss: 0.2922 - acc: 0.8757 - val_loss: 0.3823 - val_acc: 0.8406\n",
      "Epoch 27/30\n",
      "250/250 [==============================] - 12s 49ms/step - loss: 0.2924 - acc: 0.8763 - val_loss: 0.3841 - val_acc: 0.8404\n",
      "Epoch 28/30\n",
      "250/250 [==============================] - 12s 50ms/step - loss: 0.2891 - acc: 0.8767 - val_loss: 0.3822 - val_acc: 0.8424\n",
      "Epoch 29/30\n",
      "250/250 [==============================] - 13s 50ms/step - loss: 0.2922 - acc: 0.8762 - val_loss: 0.3855 - val_acc: 0.8396\n",
      "Epoch 30/30\n",
      "250/250 [==============================] - 12s 49ms/step - loss: 0.2879 - acc: 0.8778 - val_loss: 0.3857 - val_acc: 0.8414\n",
      "250/250 [==============================] - 1s 6ms/step - loss: 0.3857 - acc: 0.8414\n",
      "Model evaluation on validation datasets accuracy:84.14\n",
      "79/79 [==============================] - 1s 15ms/step - loss: 0.3785 - acc: 0.8442\n",
      "Model accuracy on Testsets : 84.42\n"
     ]
    },
    {
     "data": {
      "image/png": "[encoded data removed]",
      "text/plain": [
       "<Figure size 576x432 with 1 Axes>"
      ]
     },
     "metadata": {},
     "output_type": "display_data"
    },
    {
     "data": {
      "image/png": "[encoded data removed]",
      "text/plain": [
       "<Figure size 576x432 with 1 Axes>"
      ]
     },
     "metadata": {},
     "output_type": "display_data"
    }
   ],
   "source": [
    "model_lstm = lstmNet(n_classes=2, input_dim1=10, input_dim2=10, n_layers=2)\n",
    "model_lstm.fit(xtrain_deep, ytrain_deep, epochs=30, batch_size=128)\n",
    "model_lstm.evaluate(xtest_deep, ytest_deep, batch_size=128)\n",
    "model_lstm.plot_acc_curve()\n"
   ]
  },
  {
   "cell_type": "code",
   "execution_count": null,
   "metadata": {
    "colab": {
     "base_uri": "https://localhost:8080/"
    },
    "id": "e39bdc40",
    "outputId": "908ca14d-d0ab-4bc8-8242-64ffa9091758"
   },
   "outputs": [
    {
     "name": "stdout",
     "output_type": "stream",
     "text": [
      "313/313 [==============================] - 2s 6ms/step\n",
      "Correct Prediction: 8442\n",
      "Wrong Prediction: 1558\n",
      "Accuracy: 84.42\n"
     ]
    }
   ],
   "source": [
    "y_pred=model_lstm.predict(xtest_deep,ytest_deep)\n"
   ]
  },
  {
   "cell_type": "code",
   "execution_count": null,
   "metadata": {
    "colab": {
     "base_uri": "https://localhost:8080/"
    },
    "id": "542e493b",
    "outputId": "73135f1a-a98e-4abb-f9fe-842bd45a6ad3"
   },
   "outputs": [
    {
     "name": "stdout",
     "output_type": "stream",
     "text": [
      "[[1.]\n",
      " [1.]\n",
      " [0.]\n",
      " ...\n",
      " [0.]\n",
      " [0.]\n",
      " [1.]]\n",
      "[[1]\n",
      " [0]\n",
      " [0]\n",
      " ...\n",
      " [0]\n",
      " [0]\n",
      " [1]]\n",
      "<class 'numpy.ndarray'>\n",
      "<class 'numpy.ndarray'>\n"
     ]
    }
   ],
   "source": [
    "y_pred=np.round(y_pred)\n",
    "print(y_pred)\n",
    "print(ytest_deep)\n",
    "print (type(y_pred))\n",
    "print (type(ytest_deep))"
   ]
  },
  {
   "cell_type": "code",
   "execution_count": null,
   "metadata": {
    "colab": {
     "base_uri": "https://localhost:8080/"
    },
    "id": "6a9d160b",
    "outputId": "1a932d6b-8657-4701-8980-9a1d7abda852"
   },
   "outputs": [
    {
     "name": "stdout",
     "output_type": "stream",
     "text": [
      "              precision    recall  f1-score   support\n",
      "\n",
      "    Positive       0.87      0.82      0.84      5018\n",
      "    Negative       0.83      0.87      0.85      4982\n",
      "\n",
      "    accuracy                           0.85     10000\n",
      "   macro avg       0.85      0.85      0.85     10000\n",
      "weighted avg       0.85      0.85      0.85     10000\n",
      "\n"
     ]
    }
   ],
   "source": [
    "print(classification_report(ytest_deep, y_pred, target_names=['Positive', 'Negative']))"
   ]
  },
  {
   "cell_type": "code",
   "execution_count": null,
   "metadata": {
    "colab": {
     "base_uri": "https://localhost:8080/"
    },
    "id": "2ad6b47b",
    "outputId": "a015dbf6-4a2b-4d56-f269-55a6b3048782"
   },
   "outputs": [
    {
     "name": "stdout",
     "output_type": "stream",
     "text": [
      "[[4133  885]\n",
      " [ 644 4338]]\n"
     ]
    }
   ],
   "source": [
    "cm = confusion_matrix(ytest_deep, y_pred)\n",
    "print(cm)"
   ]
  },
  {
   "cell_type": "code",
   "execution_count": null,
   "metadata": {
    "id": "b2fe4248"
   },
   "outputs": [],
   "source": [
    "def plot_confusion_matrix(cm,\n",
    "                          target_names,\n",
    "                          title='Confusion matrix',\n",
    "                          cmap=None,\n",
    "                          normalize=True):\n",
    "    import matplotlib.pyplot as plt\n",
    "    import numpy as np\n",
    "    import itertools\n",
    "\n",
    "    accuracy = np.trace(cm) / float(np.sum(cm))\n",
    "    misclass = 1 - accuracy\n",
    "\n",
    "    if cmap is None:\n",
    "        cmap = plt.get_cmap('Blues')\n",
    "\n",
    "    plt.figure(figsize=(8, 6))\n",
    "    plt.imshow(cm, interpolation='nearest', cmap=cmap)\n",
    "    plt.title(title)\n",
    "    plt.colorbar()\n",
    "\n",
    "    if target_names is not None:\n",
    "        tick_marks = np.arange(len(target_names))\n",
    "        plt.xticks(tick_marks, target_names, rotation=45)\n",
    "        plt.yticks(tick_marks, target_names)\n",
    "\n",
    "    if normalize:\n",
    "        cm = cm.astype('float') / cm.sum(axis=1)[:, np.newaxis]\n",
    "\n",
    "\n",
    "    thresh = cm.max() / 1.5 if normalize else cm.max() / 2\n",
    "    for i, j in itertools.product(range(cm.shape[0]), range(cm.shape[1])):\n",
    "        if normalize:\n",
    "            plt.text(j, i, \"{:0.4f}\".format(cm[i, j]),\n",
    "                     horizontalalignment=\"center\",\n",
    "                     color=\"white\" if cm[i, j] > thresh else \"black\")\n",
    "        else:\n",
    "            plt.text(j, i, \"{:,}\".format(cm[i, j]),\n",
    "                     horizontalalignment=\"center\",\n",
    "                     color=\"white\" if cm[i, j] > thresh else \"black\")\n",
    "\n",
    "\n",
    "    plt.tight_layout()\n",
    "    plt.ylabel('True label')\n",
    "    plt.xlabel('Predicted label\\naccuracy={:0.4f}; misclass={:0.4f}'.format(accuracy, misclass))\n",
    "    plt.show()"
   ]
  },
  {
   "cell_type": "code",
   "execution_count": null,
   "metadata": {
    "colab": {
     "base_uri": "https://localhost:8080/",
     "height": 473
    },
    "id": "7e78c77f",
    "outputId": "6b4aff80-32f6-4eed-a512-7748ff18e1f9"
   },
   "outputs": [
    {
     "data": {
      "image/png": "[encoded data removed]",
      "text/plain": [
       "<Figure size 576x432 with 2 Axes>"
      ]
     },
     "metadata": {},
     "output_type": "display_data"
    }
   ],
   "source": [
    "plot_confusion_matrix(cm, \n",
    "                      normalize    = False,\n",
    "                      target_names = ['Positive', 'Negative'],\n",
    "                      title        = \"Confusion Matrix\")"
   ]
  },
  {
   "cell_type": "code",
   "execution_count": null,
   "metadata": {
    "id": "9913c92c"
   },
   "outputs": [],
   "source": []
  }
 ],
 "metadata": {
  "colab": {
   "provenance": []
  },
  "kernelspec": {
   "display_name": "Python 3",
   "language": "python",
   "name": "python3"
  },
  "language_info": {
   "codemirror_mode": {
    "name": "ipython",
    "version": 3
   },
   "file_extension": ".py",
   "mimetype": "text/x-python",
   "name": "python",
   "nbconvert_exporter": "python",
   "pygments_lexer": "ipython3",
   "version": "3.6.5"
  }
 },
 "nbformat": 4,
 "nbformat_minor": 5
}
